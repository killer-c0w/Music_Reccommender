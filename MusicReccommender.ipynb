{
 "cells": [
  {
   "cell_type": "code",
   "execution_count": null,
   "id": "f713050d",
   "metadata": {},
   "outputs": [],
   "source": [
    "import pandas as pd         # for dataframes and CSV handling\n",
    "import numpy as np          # for numerical operations\n",
    "\n",
    "import matplotlib.pyplot as plt    # for plotting\n",
    "import seaborn as sns             # for advanced data visualizations\n",
    "import plotly.express as px       # for interactive visualizations\n",
    "\n",
    "\n",
    "from sklearn.model_selection import train_test_split     # to split your dataset\n",
    "from sklearn.preprocessing import StandardScaler         # to normalize your features\n",
    "from sklearn.metrics import classification_report, accuracy_score  # for evaluating performance\n",
    "\n",
    "\n",
    "import tensorflow as tf\n",
    "from tensorflow import keras\n",
    "from tensorflow.keras.models import Sequential\n",
    "from tensorflow.keras.layers import Dense, Dropout\n",
    "\n",
    "\n"
   ]
  },
  {
   "cell_type": "code",
   "execution_count": null,
   "id": "1465161f",
   "metadata": {},
   "outputs": [],
   "source": [
    "#import data\n",
    "\n"
   ]
  }
 ],
 "metadata": {
  "language_info": {
   "name": "python"
  }
 },
 "nbformat": 4,
 "nbformat_minor": 5
}
